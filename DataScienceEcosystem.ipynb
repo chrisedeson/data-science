{
 "cells": [
  {
   "cell_type": "markdown",
   "id": "347df2aa-e32a-4bbe-a558-ed88ec39b5d4",
   "metadata": {},
   "source": [
    "# Data Science Tools and Ecosystem"
   ]
  },
  {
   "cell_type": "markdown",
   "id": "e2384844-fdc9-4dc4-8954-97024d6025bb",
   "metadata": {},
   "source": [
    "In this notebook, Data Science Tools and Ecosystem are summarized."
   ]
  },
  {
   "cell_type": "markdown",
   "id": "cf2bce8b-bde0-4e71-9636-fcc60a9b204c",
   "metadata": {},
   "source": [
    "**Objectives:**\n",
    "- List popular languages for Data Science\n",
    "- Outline popular libraties used for data scientists\n",
    "- Perform basic arithemetic operations"
   ]
  },
  {
   "cell_type": "markdown",
   "id": "478eabfa-b86d-47cc-bded-d43717af0f3f",
   "metadata": {},
   "source": [
    "Some of the popular languages that Data Scientists use are:"
   ]
  },
  {
   "cell_type": "markdown",
   "id": "80d34868-da22-45b5-bf18-2ec8a039e03b",
   "metadata": {},
   "source": [
    "1. Python\n",
    "2. R\n",
    "3. SQL\n",
    "4. GO\n",
    "5. Scala"
   ]
  },
  {
   "cell_type": "markdown",
   "id": "0fec60ac-bdfa-4b61-a904-fe53e007f278",
   "metadata": {},
   "source": [
    "Some of the commonly used libraries used by Data Scientists include:\n",
    "\n",
    "1. Numpy\n",
    "2. Matplotlib\n",
    "3. Plotly\n",
    "4. Pandas"
   ]
  },
  {
   "cell_type": "markdown",
   "id": "1005fd64-fd7d-4fc5-9d06-5b4030bc5039",
   "metadata": {},
   "source": [
    "| Data Science Tools |\n",
    "|--------------------|\n",
    "| Jupyter Labs |\n",
    "| Jupyter Notebooks |\n",
    "| VSCode |\n",
    "| RStudio |\n",
    "| Google Colab |\n",
    "| Anaconda |"
   ]
  },
  {
   "cell_type": "markdown",
   "id": "f671a6b4-a202-4958-9871-5566f3ea6c1f",
   "metadata": {},
   "source": [
    "### Below are a few examples of evaluating arithmetic expressions in Python"
   ]
  },
  {
   "cell_type": "code",
   "execution_count": 22,
   "id": "9c551f6e-41a3-4c5c-bf5b-0a5c76711770",
   "metadata": {},
   "outputs": [
    {
     "data": {
      "text/plain": [
       "17"
      ]
     },
     "execution_count": 22,
     "metadata": {},
     "output_type": "execute_result"
    }
   ],
   "source": [
    "# This is a simple arithmetic explression to multiply\n",
    "# then add integars\n",
    "\n",
    "(3*4)+5"
   ]
  },
  {
   "cell_type": "code",
   "execution_count": 28,
   "id": "68bf4472-16e3-49aa-8a6e-ea138befb8d2",
   "metadata": {},
   "outputs": [
    {
     "name": "stdout",
     "output_type": "stream",
     "text": [
      "3.3333333333333335\n"
     ]
    }
   ],
   "source": [
    "# This will convert 200 minutes to\n",
    "# hours by dividing by 60\n",
    "\n",
    "minutes = 200\n",
    "formular = minutes / 60\n",
    "\n",
    "results = formular\n",
    "print(formular)"
   ]
  },
  {
   "cell_type": "markdown",
   "id": "30292a29-7d16-4d35-a119-1588f81fd380",
   "metadata": {},
   "source": [
    "## Author\n",
    "Christopher Edeson"
   ]
  }
 ],
 "metadata": {
  "kernelspec": {
   "display_name": "Python 3 (ipykernel)",
   "language": "python",
   "name": "python3"
  },
  "language_info": {
   "codemirror_mode": {
    "name": "ipython",
    "version": 3
   },
   "file_extension": ".py",
   "mimetype": "text/x-python",
   "name": "python",
   "nbconvert_exporter": "python",
   "pygments_lexer": "ipython3",
   "version": "3.12.7"
  }
 },
 "nbformat": 4,
 "nbformat_minor": 5
}
